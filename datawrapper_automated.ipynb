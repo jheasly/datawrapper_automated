{
  "nbformat": 4,
  "nbformat_minor": 0,
  "metadata": {
    "colab": {
      "provenance": [],
      "authorship_tag": "ABX9TyM/Svd5z7IBjwNcERtbPgvc",
      "include_colab_link": true
    },
    "kernelspec": {
      "name": "python3",
      "display_name": "Python 3"
    },
    "language_info": {
      "name": "python"
    }
  },
  "cells": [
    {
      "cell_type": "markdown",
      "metadata": {
        "id": "view-in-github",
        "colab_type": "text"
      },
      "source": [
        "<a href=\"https://colab.research.google.com/github/jheasly/datawrapper_automated/blob/main/datawrapper_automated.ipynb\" target=\"_parent\"><img src=\"https://colab.research.google.com/assets/colab-badge.svg\" alt=\"Open In Colab\"/></a>"
      ]
    },
    {
      "cell_type": "code",
      "execution_count": 3,
      "metadata": {
        "colab": {
          "base_uri": "https://localhost:8080/"
        },
        "id": "qFpNuRdtAo5e",
        "outputId": "abade6ce-87a9-4ac6-e52c-d686f6536761"
      },
      "outputs": [
        {
          "output_type": "stream",
          "name": "stdout",
          "text": [
            "Collecting datawrapper\n",
            "  Downloading datawrapper-0.6.0-py3-none-any.whl (14 kB)\n",
            "Requirement already satisfied: importlib-metadata in /usr/local/lib/python3.10/dist-packages (from datawrapper) (7.0.2)\n",
            "Requirement already satisfied: rich in /usr/local/lib/python3.10/dist-packages (from datawrapper) (13.7.1)\n",
            "Requirement already satisfied: requests in /usr/local/lib/python3.10/dist-packages (from datawrapper) (2.31.0)\n",
            "Requirement already satisfied: pandas in /usr/local/lib/python3.10/dist-packages (from datawrapper) (1.5.3)\n",
            "Requirement already satisfied: ipython in /usr/local/lib/python3.10/dist-packages (from datawrapper) (7.34.0)\n",
            "Requirement already satisfied: zipp>=0.5 in /usr/local/lib/python3.10/dist-packages (from importlib-metadata->datawrapper) (3.18.0)\n",
            "Requirement already satisfied: setuptools>=18.5 in /usr/local/lib/python3.10/dist-packages (from ipython->datawrapper) (67.7.2)\n",
            "Collecting jedi>=0.16 (from ipython->datawrapper)\n",
            "  Downloading jedi-0.19.1-py2.py3-none-any.whl (1.6 MB)\n",
            "\u001b[2K     \u001b[90m━━━━━━━━━━━━━━━━━━━━━━━━━━━━━━━━━━━━━━━━\u001b[0m \u001b[32m1.6/1.6 MB\u001b[0m \u001b[31m7.2 MB/s\u001b[0m eta \u001b[36m0:00:00\u001b[0m\n",
            "\u001b[?25hRequirement already satisfied: decorator in /usr/local/lib/python3.10/dist-packages (from ipython->datawrapper) (4.4.2)\n",
            "Requirement already satisfied: pickleshare in /usr/local/lib/python3.10/dist-packages (from ipython->datawrapper) (0.7.5)\n",
            "Requirement already satisfied: traitlets>=4.2 in /usr/local/lib/python3.10/dist-packages (from ipython->datawrapper) (5.7.1)\n",
            "Requirement already satisfied: prompt-toolkit!=3.0.0,!=3.0.1,<3.1.0,>=2.0.0 in /usr/local/lib/python3.10/dist-packages (from ipython->datawrapper) (3.0.43)\n",
            "Requirement already satisfied: pygments in /usr/local/lib/python3.10/dist-packages (from ipython->datawrapper) (2.16.1)\n",
            "Requirement already satisfied: backcall in /usr/local/lib/python3.10/dist-packages (from ipython->datawrapper) (0.2.0)\n",
            "Requirement already satisfied: matplotlib-inline in /usr/local/lib/python3.10/dist-packages (from ipython->datawrapper) (0.1.6)\n",
            "Requirement already satisfied: pexpect>4.3 in /usr/local/lib/python3.10/dist-packages (from ipython->datawrapper) (4.9.0)\n",
            "Requirement already satisfied: python-dateutil>=2.8.1 in /usr/local/lib/python3.10/dist-packages (from pandas->datawrapper) (2.8.2)\n",
            "Requirement already satisfied: pytz>=2020.1 in /usr/local/lib/python3.10/dist-packages (from pandas->datawrapper) (2023.4)\n",
            "Requirement already satisfied: numpy>=1.21.0 in /usr/local/lib/python3.10/dist-packages (from pandas->datawrapper) (1.25.2)\n",
            "Requirement already satisfied: charset-normalizer<4,>=2 in /usr/local/lib/python3.10/dist-packages (from requests->datawrapper) (3.3.2)\n",
            "Requirement already satisfied: idna<4,>=2.5 in /usr/local/lib/python3.10/dist-packages (from requests->datawrapper) (3.6)\n",
            "Requirement already satisfied: urllib3<3,>=1.21.1 in /usr/local/lib/python3.10/dist-packages (from requests->datawrapper) (2.0.7)\n",
            "Requirement already satisfied: certifi>=2017.4.17 in /usr/local/lib/python3.10/dist-packages (from requests->datawrapper) (2024.2.2)\n",
            "Requirement already satisfied: markdown-it-py>=2.2.0 in /usr/local/lib/python3.10/dist-packages (from rich->datawrapper) (3.0.0)\n",
            "Requirement already satisfied: parso<0.9.0,>=0.8.3 in /usr/local/lib/python3.10/dist-packages (from jedi>=0.16->ipython->datawrapper) (0.8.3)\n",
            "Requirement already satisfied: mdurl~=0.1 in /usr/local/lib/python3.10/dist-packages (from markdown-it-py>=2.2.0->rich->datawrapper) (0.1.2)\n",
            "Requirement already satisfied: ptyprocess>=0.5 in /usr/local/lib/python3.10/dist-packages (from pexpect>4.3->ipython->datawrapper) (0.7.0)\n",
            "Requirement already satisfied: wcwidth in /usr/local/lib/python3.10/dist-packages (from prompt-toolkit!=3.0.0,!=3.0.1,<3.1.0,>=2.0.0->ipython->datawrapper) (0.2.13)\n",
            "Requirement already satisfied: six>=1.5 in /usr/local/lib/python3.10/dist-packages (from python-dateutil>=2.8.1->pandas->datawrapper) (1.16.0)\n",
            "Installing collected packages: jedi, datawrapper\n",
            "Successfully installed datawrapper-0.6.0 jedi-0.19.1\n"
          ]
        }
      ],
      "source": [
        "!pip install datawrapper"
      ]
    },
    {
      "cell_type": "code",
      "source": [
        "from datawrapper import Datawrapper"
      ],
      "metadata": {
        "id": "rG-FPgMIBpmI"
      },
      "execution_count": 4,
      "outputs": []
    },
    {
      "cell_type": "code",
      "source": [
        "dw = Datawrapper(\"W4uoisI2HRE0l9nbk5Av3efVhsICmCtR7xkGV9cY1q1c4T5585O1kgQrtRPHu4NY\")"
      ],
      "metadata": {
        "id": "McDPPXDRCTZ8"
      },
      "execution_count": 5,
      "outputs": []
    },
    {
      "cell_type": "code",
      "source": [
        "dw.get_my_account()"
      ],
      "metadata": {
        "colab": {
          "base_uri": "https://localhost:8080/"
        },
        "id": "IZ2D-6yn5x6V",
        "outputId": "5cc7b418-e82e-4b3e-aa94-3494b326179e"
      },
      "execution_count": 6,
      "outputs": [
        {
          "output_type": "execute_result",
          "data": {
            "text/plain": [
              "{'id': 295587,\n",
              " 'email': 'jheasly@registerguard.com',\n",
              " 'name': 'John Heasly',\n",
              " 'role': 'editor',\n",
              " 'language': 'en-US',\n",
              " 'presenceColor': 'color-dw-presence-60',\n",
              " 'avatar': None,\n",
              " 'customAvatar': None,\n",
              " 'teams': [{'id': 'dWi6fZly',\n",
              "   'name': 'Gannett West',\n",
              "   'url': '/v3/teams/dWi6fZly',\n",
              "   'active': True}],\n",
              " 'chartCount': 65,\n",
              " 'url': '/v3/users/295587',\n",
              " 'activeTeam': 'dWi6fZly',\n",
              " 'entitlements': {}}"
            ]
          },
          "metadata": {},
          "execution_count": 6
        }
      ]
    },
    {
      "cell_type": "code",
      "source": [
        "import pandas as pd"
      ],
      "metadata": {
        "id": "C2m-WAvs56Pn"
      },
      "execution_count": 7,
      "outputs": []
    },
    {
      "cell_type": "code",
      "source": [
        "df = pd.read_csv(\n",
        "    \"https://raw.githubusercontent.com/palewire/first-automated-chart/main/_notebooks/arrests.csv\",\n",
        "    parse_dates=[\"ArrestDateTime\"]\n",
        ")"
      ],
      "metadata": {
        "id": "bhV3BoiE5_2w"
      },
      "execution_count": 8,
      "outputs": []
    },
    {
      "cell_type": "code",
      "source": [
        "df.head()"
      ],
      "metadata": {
        "colab": {
          "base_uri": "https://localhost:8080/",
          "height": 342
        },
        "id": "cGzFlwMi6JDX",
        "outputId": "41a0d8e9-65ba-4f50-a206-4fc261693fe1"
      },
      "execution_count": 9,
      "outputs": [
        {
          "output_type": "execute_result",
          "data": {
            "text/plain": [
              "   RowID             X              Y IncidentNumber  ArrestNumber   Age  \\\n",
              "0     29  1.401347e+06  608148.870493       22L09338    23000037.0  39.0   \n",
              "1     30  1.401347e+06  608148.870493       22L09338    23000039.0  50.0   \n",
              "2     31           NaN            NaN            NaN    23000010.0  27.0   \n",
              "3     32  1.417636e+06  595206.835862       22L09343    23000050.0  42.0   \n",
              "4     33           NaN            NaN       22L09312    22157183.0  43.0   \n",
              "\n",
              "  Gender Race      ArrestDateTime    ArrestLocation  ...   ChargeDescription  \\\n",
              "0      M    B 2022-12-31 23:50:00   4000 OAKFORD ST  ...  HAND GUN VIOLATION   \n",
              "1      M    B 2022-12-31 23:50:00   4000 OAKFORD ST  ...  HAND GUN VIOLATION   \n",
              "2      M    B 2022-12-31 23:40:00               NaN  ...   FAILURE TO APPEAR   \n",
              "3      M    B 2022-12-31 23:15:00    500 DOLPHIN ST  ...  HAND GUN VIOLATION   \n",
              "4      F    W 2022-12-31 21:00:00  1500 BECKLOW AVE  ...         STOLEN AUTO   \n",
              "\n",
              "    District   Post    Neighborhood Latitude  Longitude         GeoLocation  \\\n",
              "0  Northwest  621.0  West Arlington  39.3361   -76.6853  (39.3361,-76.6853)   \n",
              "1  Northwest  621.0  West Arlington  39.3361   -76.6853  (39.3361,-76.6853)   \n",
              "2        NaN    NaN             NaN      NaN        NaN                 (,)   \n",
              "3    Central  123.0           Upton  39.3004   -76.6279  (39.3004,-76.6279)   \n",
              "4        NaN    NaN             NaN      NaN        NaN                 (,)   \n",
              "\n",
              "   Shape  Year  year  \n",
              "0    NaN  2022  2022  \n",
              "1    NaN  2022  2022  \n",
              "2    NaN  2022  2022  \n",
              "3    NaN  2022  2022  \n",
              "4    NaN  2022  2022  \n",
              "\n",
              "[5 rows x 23 columns]"
            ],
            "text/html": [
              "\n",
              "  <div id=\"df-94474e6c-09fd-40fd-9b67-a806f33b356a\" class=\"colab-df-container\">\n",
              "    <div>\n",
              "<style scoped>\n",
              "    .dataframe tbody tr th:only-of-type {\n",
              "        vertical-align: middle;\n",
              "    }\n",
              "\n",
              "    .dataframe tbody tr th {\n",
              "        vertical-align: top;\n",
              "    }\n",
              "\n",
              "    .dataframe thead th {\n",
              "        text-align: right;\n",
              "    }\n",
              "</style>\n",
              "<table border=\"1\" class=\"dataframe\">\n",
              "  <thead>\n",
              "    <tr style=\"text-align: right;\">\n",
              "      <th></th>\n",
              "      <th>RowID</th>\n",
              "      <th>X</th>\n",
              "      <th>Y</th>\n",
              "      <th>IncidentNumber</th>\n",
              "      <th>ArrestNumber</th>\n",
              "      <th>Age</th>\n",
              "      <th>Gender</th>\n",
              "      <th>Race</th>\n",
              "      <th>ArrestDateTime</th>\n",
              "      <th>ArrestLocation</th>\n",
              "      <th>...</th>\n",
              "      <th>ChargeDescription</th>\n",
              "      <th>District</th>\n",
              "      <th>Post</th>\n",
              "      <th>Neighborhood</th>\n",
              "      <th>Latitude</th>\n",
              "      <th>Longitude</th>\n",
              "      <th>GeoLocation</th>\n",
              "      <th>Shape</th>\n",
              "      <th>Year</th>\n",
              "      <th>year</th>\n",
              "    </tr>\n",
              "  </thead>\n",
              "  <tbody>\n",
              "    <tr>\n",
              "      <th>0</th>\n",
              "      <td>29</td>\n",
              "      <td>1.401347e+06</td>\n",
              "      <td>608148.870493</td>\n",
              "      <td>22L09338</td>\n",
              "      <td>23000037.0</td>\n",
              "      <td>39.0</td>\n",
              "      <td>M</td>\n",
              "      <td>B</td>\n",
              "      <td>2022-12-31 23:50:00</td>\n",
              "      <td>4000 OAKFORD ST</td>\n",
              "      <td>...</td>\n",
              "      <td>HAND GUN VIOLATION</td>\n",
              "      <td>Northwest</td>\n",
              "      <td>621.0</td>\n",
              "      <td>West Arlington</td>\n",
              "      <td>39.3361</td>\n",
              "      <td>-76.6853</td>\n",
              "      <td>(39.3361,-76.6853)</td>\n",
              "      <td>NaN</td>\n",
              "      <td>2022</td>\n",
              "      <td>2022</td>\n",
              "    </tr>\n",
              "    <tr>\n",
              "      <th>1</th>\n",
              "      <td>30</td>\n",
              "      <td>1.401347e+06</td>\n",
              "      <td>608148.870493</td>\n",
              "      <td>22L09338</td>\n",
              "      <td>23000039.0</td>\n",
              "      <td>50.0</td>\n",
              "      <td>M</td>\n",
              "      <td>B</td>\n",
              "      <td>2022-12-31 23:50:00</td>\n",
              "      <td>4000 OAKFORD ST</td>\n",
              "      <td>...</td>\n",
              "      <td>HAND GUN VIOLATION</td>\n",
              "      <td>Northwest</td>\n",
              "      <td>621.0</td>\n",
              "      <td>West Arlington</td>\n",
              "      <td>39.3361</td>\n",
              "      <td>-76.6853</td>\n",
              "      <td>(39.3361,-76.6853)</td>\n",
              "      <td>NaN</td>\n",
              "      <td>2022</td>\n",
              "      <td>2022</td>\n",
              "    </tr>\n",
              "    <tr>\n",
              "      <th>2</th>\n",
              "      <td>31</td>\n",
              "      <td>NaN</td>\n",
              "      <td>NaN</td>\n",
              "      <td>NaN</td>\n",
              "      <td>23000010.0</td>\n",
              "      <td>27.0</td>\n",
              "      <td>M</td>\n",
              "      <td>B</td>\n",
              "      <td>2022-12-31 23:40:00</td>\n",
              "      <td>NaN</td>\n",
              "      <td>...</td>\n",
              "      <td>FAILURE TO APPEAR</td>\n",
              "      <td>NaN</td>\n",
              "      <td>NaN</td>\n",
              "      <td>NaN</td>\n",
              "      <td>NaN</td>\n",
              "      <td>NaN</td>\n",
              "      <td>(,)</td>\n",
              "      <td>NaN</td>\n",
              "      <td>2022</td>\n",
              "      <td>2022</td>\n",
              "    </tr>\n",
              "    <tr>\n",
              "      <th>3</th>\n",
              "      <td>32</td>\n",
              "      <td>1.417636e+06</td>\n",
              "      <td>595206.835862</td>\n",
              "      <td>22L09343</td>\n",
              "      <td>23000050.0</td>\n",
              "      <td>42.0</td>\n",
              "      <td>M</td>\n",
              "      <td>B</td>\n",
              "      <td>2022-12-31 23:15:00</td>\n",
              "      <td>500 DOLPHIN ST</td>\n",
              "      <td>...</td>\n",
              "      <td>HAND GUN VIOLATION</td>\n",
              "      <td>Central</td>\n",
              "      <td>123.0</td>\n",
              "      <td>Upton</td>\n",
              "      <td>39.3004</td>\n",
              "      <td>-76.6279</td>\n",
              "      <td>(39.3004,-76.6279)</td>\n",
              "      <td>NaN</td>\n",
              "      <td>2022</td>\n",
              "      <td>2022</td>\n",
              "    </tr>\n",
              "    <tr>\n",
              "      <th>4</th>\n",
              "      <td>33</td>\n",
              "      <td>NaN</td>\n",
              "      <td>NaN</td>\n",
              "      <td>22L09312</td>\n",
              "      <td>22157183.0</td>\n",
              "      <td>43.0</td>\n",
              "      <td>F</td>\n",
              "      <td>W</td>\n",
              "      <td>2022-12-31 21:00:00</td>\n",
              "      <td>1500 BECKLOW AVE</td>\n",
              "      <td>...</td>\n",
              "      <td>STOLEN AUTO</td>\n",
              "      <td>NaN</td>\n",
              "      <td>NaN</td>\n",
              "      <td>NaN</td>\n",
              "      <td>NaN</td>\n",
              "      <td>NaN</td>\n",
              "      <td>(,)</td>\n",
              "      <td>NaN</td>\n",
              "      <td>2022</td>\n",
              "      <td>2022</td>\n",
              "    </tr>\n",
              "  </tbody>\n",
              "</table>\n",
              "<p>5 rows × 23 columns</p>\n",
              "</div>\n",
              "    <div class=\"colab-df-buttons\">\n",
              "\n",
              "  <div class=\"colab-df-container\">\n",
              "    <button class=\"colab-df-convert\" onclick=\"convertToInteractive('df-94474e6c-09fd-40fd-9b67-a806f33b356a')\"\n",
              "            title=\"Convert this dataframe to an interactive table.\"\n",
              "            style=\"display:none;\">\n",
              "\n",
              "  <svg xmlns=\"http://www.w3.org/2000/svg\" height=\"24px\" viewBox=\"0 -960 960 960\">\n",
              "    <path d=\"M120-120v-720h720v720H120Zm60-500h600v-160H180v160Zm220 220h160v-160H400v160Zm0 220h160v-160H400v160ZM180-400h160v-160H180v160Zm440 0h160v-160H620v160ZM180-180h160v-160H180v160Zm440 0h160v-160H620v160Z\"/>\n",
              "  </svg>\n",
              "    </button>\n",
              "\n",
              "  <style>\n",
              "    .colab-df-container {\n",
              "      display:flex;\n",
              "      gap: 12px;\n",
              "    }\n",
              "\n",
              "    .colab-df-convert {\n",
              "      background-color: #E8F0FE;\n",
              "      border: none;\n",
              "      border-radius: 50%;\n",
              "      cursor: pointer;\n",
              "      display: none;\n",
              "      fill: #1967D2;\n",
              "      height: 32px;\n",
              "      padding: 0 0 0 0;\n",
              "      width: 32px;\n",
              "    }\n",
              "\n",
              "    .colab-df-convert:hover {\n",
              "      background-color: #E2EBFA;\n",
              "      box-shadow: 0px 1px 2px rgba(60, 64, 67, 0.3), 0px 1px 3px 1px rgba(60, 64, 67, 0.15);\n",
              "      fill: #174EA6;\n",
              "    }\n",
              "\n",
              "    .colab-df-buttons div {\n",
              "      margin-bottom: 4px;\n",
              "    }\n",
              "\n",
              "    [theme=dark] .colab-df-convert {\n",
              "      background-color: #3B4455;\n",
              "      fill: #D2E3FC;\n",
              "    }\n",
              "\n",
              "    [theme=dark] .colab-df-convert:hover {\n",
              "      background-color: #434B5C;\n",
              "      box-shadow: 0px 1px 3px 1px rgba(0, 0, 0, 0.15);\n",
              "      filter: drop-shadow(0px 1px 2px rgba(0, 0, 0, 0.3));\n",
              "      fill: #FFFFFF;\n",
              "    }\n",
              "  </style>\n",
              "\n",
              "    <script>\n",
              "      const buttonEl =\n",
              "        document.querySelector('#df-94474e6c-09fd-40fd-9b67-a806f33b356a button.colab-df-convert');\n",
              "      buttonEl.style.display =\n",
              "        google.colab.kernel.accessAllowed ? 'block' : 'none';\n",
              "\n",
              "      async function convertToInteractive(key) {\n",
              "        const element = document.querySelector('#df-94474e6c-09fd-40fd-9b67-a806f33b356a');\n",
              "        const dataTable =\n",
              "          await google.colab.kernel.invokeFunction('convertToInteractive',\n",
              "                                                    [key], {});\n",
              "        if (!dataTable) return;\n",
              "\n",
              "        const docLinkHtml = 'Like what you see? Visit the ' +\n",
              "          '<a target=\"_blank\" href=https://colab.research.google.com/notebooks/data_table.ipynb>data table notebook</a>'\n",
              "          + ' to learn more about interactive tables.';\n",
              "        element.innerHTML = '';\n",
              "        dataTable['output_type'] = 'display_data';\n",
              "        await google.colab.output.renderOutput(dataTable, element);\n",
              "        const docLink = document.createElement('div');\n",
              "        docLink.innerHTML = docLinkHtml;\n",
              "        element.appendChild(docLink);\n",
              "      }\n",
              "    </script>\n",
              "  </div>\n",
              "\n",
              "\n",
              "<div id=\"df-2f233b57-be93-4610-9d86-5baa50b8633d\">\n",
              "  <button class=\"colab-df-quickchart\" onclick=\"quickchart('df-2f233b57-be93-4610-9d86-5baa50b8633d')\"\n",
              "            title=\"Suggest charts\"\n",
              "            style=\"display:none;\">\n",
              "\n",
              "<svg xmlns=\"http://www.w3.org/2000/svg\" height=\"24px\"viewBox=\"0 0 24 24\"\n",
              "     width=\"24px\">\n",
              "    <g>\n",
              "        <path d=\"M19 3H5c-1.1 0-2 .9-2 2v14c0 1.1.9 2 2 2h14c1.1 0 2-.9 2-2V5c0-1.1-.9-2-2-2zM9 17H7v-7h2v7zm4 0h-2V7h2v10zm4 0h-2v-4h2v4z\"/>\n",
              "    </g>\n",
              "</svg>\n",
              "  </button>\n",
              "\n",
              "<style>\n",
              "  .colab-df-quickchart {\n",
              "      --bg-color: #E8F0FE;\n",
              "      --fill-color: #1967D2;\n",
              "      --hover-bg-color: #E2EBFA;\n",
              "      --hover-fill-color: #174EA6;\n",
              "      --disabled-fill-color: #AAA;\n",
              "      --disabled-bg-color: #DDD;\n",
              "  }\n",
              "\n",
              "  [theme=dark] .colab-df-quickchart {\n",
              "      --bg-color: #3B4455;\n",
              "      --fill-color: #D2E3FC;\n",
              "      --hover-bg-color: #434B5C;\n",
              "      --hover-fill-color: #FFFFFF;\n",
              "      --disabled-bg-color: #3B4455;\n",
              "      --disabled-fill-color: #666;\n",
              "  }\n",
              "\n",
              "  .colab-df-quickchart {\n",
              "    background-color: var(--bg-color);\n",
              "    border: none;\n",
              "    border-radius: 50%;\n",
              "    cursor: pointer;\n",
              "    display: none;\n",
              "    fill: var(--fill-color);\n",
              "    height: 32px;\n",
              "    padding: 0;\n",
              "    width: 32px;\n",
              "  }\n",
              "\n",
              "  .colab-df-quickchart:hover {\n",
              "    background-color: var(--hover-bg-color);\n",
              "    box-shadow: 0 1px 2px rgba(60, 64, 67, 0.3), 0 1px 3px 1px rgba(60, 64, 67, 0.15);\n",
              "    fill: var(--button-hover-fill-color);\n",
              "  }\n",
              "\n",
              "  .colab-df-quickchart-complete:disabled,\n",
              "  .colab-df-quickchart-complete:disabled:hover {\n",
              "    background-color: var(--disabled-bg-color);\n",
              "    fill: var(--disabled-fill-color);\n",
              "    box-shadow: none;\n",
              "  }\n",
              "\n",
              "  .colab-df-spinner {\n",
              "    border: 2px solid var(--fill-color);\n",
              "    border-color: transparent;\n",
              "    border-bottom-color: var(--fill-color);\n",
              "    animation:\n",
              "      spin 1s steps(1) infinite;\n",
              "  }\n",
              "\n",
              "  @keyframes spin {\n",
              "    0% {\n",
              "      border-color: transparent;\n",
              "      border-bottom-color: var(--fill-color);\n",
              "      border-left-color: var(--fill-color);\n",
              "    }\n",
              "    20% {\n",
              "      border-color: transparent;\n",
              "      border-left-color: var(--fill-color);\n",
              "      border-top-color: var(--fill-color);\n",
              "    }\n",
              "    30% {\n",
              "      border-color: transparent;\n",
              "      border-left-color: var(--fill-color);\n",
              "      border-top-color: var(--fill-color);\n",
              "      border-right-color: var(--fill-color);\n",
              "    }\n",
              "    40% {\n",
              "      border-color: transparent;\n",
              "      border-right-color: var(--fill-color);\n",
              "      border-top-color: var(--fill-color);\n",
              "    }\n",
              "    60% {\n",
              "      border-color: transparent;\n",
              "      border-right-color: var(--fill-color);\n",
              "    }\n",
              "    80% {\n",
              "      border-color: transparent;\n",
              "      border-right-color: var(--fill-color);\n",
              "      border-bottom-color: var(--fill-color);\n",
              "    }\n",
              "    90% {\n",
              "      border-color: transparent;\n",
              "      border-bottom-color: var(--fill-color);\n",
              "    }\n",
              "  }\n",
              "</style>\n",
              "\n",
              "  <script>\n",
              "    async function quickchart(key) {\n",
              "      const quickchartButtonEl =\n",
              "        document.querySelector('#' + key + ' button');\n",
              "      quickchartButtonEl.disabled = true;  // To prevent multiple clicks.\n",
              "      quickchartButtonEl.classList.add('colab-df-spinner');\n",
              "      try {\n",
              "        const charts = await google.colab.kernel.invokeFunction(\n",
              "            'suggestCharts', [key], {});\n",
              "      } catch (error) {\n",
              "        console.error('Error during call to suggestCharts:', error);\n",
              "      }\n",
              "      quickchartButtonEl.classList.remove('colab-df-spinner');\n",
              "      quickchartButtonEl.classList.add('colab-df-quickchart-complete');\n",
              "    }\n",
              "    (() => {\n",
              "      let quickchartButtonEl =\n",
              "        document.querySelector('#df-2f233b57-be93-4610-9d86-5baa50b8633d button');\n",
              "      quickchartButtonEl.style.display =\n",
              "        google.colab.kernel.accessAllowed ? 'block' : 'none';\n",
              "    })();\n",
              "  </script>\n",
              "</div>\n",
              "\n",
              "    </div>\n",
              "  </div>\n"
            ],
            "application/vnd.google.colaboratory.intrinsic+json": {
              "type": "dataframe",
              "variable_name": "df"
            }
          },
          "metadata": {},
          "execution_count": 9
        }
      ]
    },
    {
      "cell_type": "code",
      "source": [
        "df['year'] = df.ArrestDateTime.dt.year"
      ],
      "metadata": {
        "id": "YPnc_M4y6Lvp"
      },
      "execution_count": 10,
      "outputs": []
    },
    {
      "cell_type": "code",
      "source": [
        "df.year.value_counts()"
      ],
      "metadata": {
        "colab": {
          "base_uri": "https://localhost:8080/"
        },
        "id": "eWnTCnje6Si2",
        "outputId": "d8552676-5f41-42f6-e4ec-b663f284f907"
      },
      "execution_count": 11,
      "outputs": [
        {
          "output_type": "execute_result",
          "data": {
            "text/plain": [
              "2010    45224\n",
              "2011    43364\n",
              "2012    42333\n",
              "2013    39542\n",
              "2014    37078\n",
              "2015    25732\n",
              "2016    23089\n",
              "2017    21989\n",
              "2018    20543\n",
              "2019    19407\n",
              "2023    13566\n",
              "2020    13162\n",
              "2022    12360\n",
              "2021    11130\n",
              "Name: year, dtype: int64"
            ]
          },
          "metadata": {},
          "execution_count": 11
        }
      ]
    },
    {
      "cell_type": "code",
      "source": [
        "totals_by_year = df.year.value_counts().sort_index().reset_index()"
      ],
      "metadata": {
        "id": "EHxODCz56Vbk"
      },
      "execution_count": 12,
      "outputs": []
    },
    {
      "cell_type": "code",
      "source": [
        "chart_config = dw.create_chart(\n",
        "    title=\"Baltimore Arrests\",\n",
        "    chart_type=\"column-chart\",\n",
        "    data=totals_by_year\n",
        ")"
      ],
      "metadata": {
        "id": "j9phLYNx6d-d"
      },
      "execution_count": 13,
      "outputs": []
    },
    {
      "cell_type": "code",
      "source": [
        "chart_config"
      ],
      "metadata": {
        "colab": {
          "base_uri": "https://localhost:8080/"
        },
        "id": "oIuFYIh46iKE",
        "outputId": "2e425561-89ad-4bf1-8a78-65c9e2e13daf"
      },
      "execution_count": 14,
      "outputs": [
        {
          "output_type": "execute_result",
          "data": {
            "text/plain": [
              "{'publicId': '7TbhK',\n",
              " 'language': 'en-US',\n",
              " 'theme': 'datawrapper',\n",
              " 'title': 'Baltimore Arrests',\n",
              " 'type': 'column-chart',\n",
              " 'lastEditStep': 3,\n",
              " 'metadata': {'data': {'changes': [],\n",
              "   'transpose': False,\n",
              "   'vertical-header': True,\n",
              "   'horizontal-header': True},\n",
              "  'describe': {'source-name': '',\n",
              "   'source-url': '',\n",
              "   'intro': '',\n",
              "   'byline': '',\n",
              "   'aria-description': '',\n",
              "   'number-format': '-',\n",
              "   'number-divisor': 0,\n",
              "   'number-append': '',\n",
              "   'number-prepend': ''},\n",
              "  'visualize': {'dark-mode-invert': True,\n",
              "   'highlighted-series': [],\n",
              "   'highlighted-values': [],\n",
              "   'sharing': {'enabled': False}},\n",
              "  'axes': {},\n",
              "  'publish': {'embed-width': 600,\n",
              "   'embed-height': 400,\n",
              "   'blocks': {'logo': {'enabled': False},\n",
              "    'embed': False,\n",
              "    'download-pdf': False,\n",
              "    'download-svg': False,\n",
              "    'get-the-data': True,\n",
              "    'download-image': False},\n",
              "   'export-pdf': {}},\n",
              "  'annotate': {'notes': ''},\n",
              "  'custom': {}},\n",
              " 'authorId': 295587,\n",
              " 'id': '7TbhK',\n",
              " 'lastModifiedAt': '2024-03-18T22:04:25.931Z',\n",
              " 'createdAt': '2024-03-18T22:04:25.903Z',\n",
              " 'organizationId': 'dWi6fZly',\n",
              " 'url': '/v3/charts/7TbhK'}"
            ]
          },
          "metadata": {},
          "execution_count": 14
        }
      ]
    },
    {
      "cell_type": "code",
      "source": [
        "chart_id = chart_config[\"id\"]"
      ],
      "metadata": {
        "id": "NE08CKBF6-Ep"
      },
      "execution_count": 15,
      "outputs": []
    },
    {
      "cell_type": "code",
      "source": [
        "dw.publish_chart(chart_id)"
      ],
      "metadata": {
        "colab": {
          "base_uri": "https://localhost:8080/"
        },
        "id": "ooHD2Xke7D07",
        "outputId": "67a3009a-8cf8-4058-e343-7ed3062eff86"
      },
      "execution_count": 16,
      "outputs": [
        {
          "output_type": "execute_result",
          "data": {
            "text/plain": [
              "{'data': {'publicId': '7TbhK',\n",
              "  'language': 'en-US',\n",
              "  'theme': 'datawrapper',\n",
              "  'id': '7TbhK',\n",
              "  'type': 'column-chart',\n",
              "  'title': 'Baltimore Arrests',\n",
              "  'lastEditStep': 5,\n",
              "  'publishedAt': '2024-03-18T22:04:32.939Z',\n",
              "  'publicUrl': 'https://datawrapper.dwcdn.net/7TbhK/1/',\n",
              "  'publicVersion': 1,\n",
              "  'deleted': False,\n",
              "  'deletedAt': None,\n",
              "  'forkable': False,\n",
              "  'isFork': False,\n",
              "  'metadata': {'data': {'changes': [],\n",
              "    'transpose': False,\n",
              "    'vertical-header': True,\n",
              "    'horizontal-header': True},\n",
              "   'describe': {'source-name': '',\n",
              "    'source-url': '',\n",
              "    'intro': '',\n",
              "    'byline': '',\n",
              "    'aria-description': '',\n",
              "    'number-format': '-',\n",
              "    'number-divisor': 0,\n",
              "    'number-append': '',\n",
              "    'number-prepend': ''},\n",
              "   'visualize': {'dark-mode-invert': True,\n",
              "    'highlighted-series': [],\n",
              "    'highlighted-values': [],\n",
              "    'sharing': {'enabled': False}},\n",
              "   'axes': {},\n",
              "   'publish': {'embed-width': 600,\n",
              "    'embed-height': 400,\n",
              "    'blocks': {'logo': {'enabled': False},\n",
              "     'embed': False,\n",
              "     'download-pdf': False,\n",
              "     'download-svg': False,\n",
              "     'get-the-data': True,\n",
              "     'download-image': False},\n",
              "    'export-pdf': {},\n",
              "    'embed-codes': {'embed-method-responsive': '<iframe title=\"Baltimore Arrests\" aria-label=\"Column Chart\" id=\"datawrapper-chart-7TbhK\" src=\"https://datawrapper.dwcdn.net/7TbhK/1/\" scrolling=\"no\" frameborder=\"0\" style=\"width: 0; min-width: 100% !important; border: none;\" height=\"400\" data-external=\"1\"></iframe><script type=\"text/javascript\">!function(){\"use strict\";window.addEventListener(\"message\",(function(a){if(void 0!==a.data[\"datawrapper-height\"]){var e=document.querySelectorAll(\"iframe\");for(var t in a.data[\"datawrapper-height\"])for(var r=0;r<e.length;r++)if(e[r].contentWindow===a.source){var i=a.data[\"datawrapper-height\"][t]+\"px\";e[r].style.height=i}}}))}();\\n</script>',\n",
              "     'embed-method-iframe': '<iframe title=\"Baltimore Arrests\" aria-label=\"Column Chart\" id=\"datawrapper-chart-7TbhK\" src=\"https://datawrapper.dwcdn.net/7TbhK/1/\" scrolling=\"no\" frameborder=\"0\" style=\"border: none;\" width=\"600\" height=\"400\" data-external=\"1\"></iframe>',\n",
              "     'embed-method-web-component': '<div style=\"min-height:400px\"><script type=\"text/javascript\" defer src=\"https://datawrapper.dwcdn.net/7TbhK/embed.js?v=1\" charset=\"utf-8\"></script><noscript><img src=\"https://datawrapper.dwcdn.net/7TbhK/full.png\" alt=\"\" /></noscript></div>'}},\n",
              "   'annotate': {'notes': ''},\n",
              "   'custom': {}},\n",
              "  'externalData': None,\n",
              "  'utf8': False,\n",
              "  'createdAt': '2024-03-18T22:04:25.000Z',\n",
              "  'lastModifiedAt': '2024-03-18T22:04:32.939Z',\n",
              "  'forkedFrom': None,\n",
              "  'organizationId': 'dWi6fZly',\n",
              "  'authorId': 295587,\n",
              "  'folderId': None},\n",
              " 'version': 1,\n",
              " 'url': 'https://datawrapper.dwcdn.net/7TbhK/1/'}"
            ]
          },
          "metadata": {},
          "execution_count": 16
        }
      ]
    },
    {
      "cell_type": "code",
      "source": [
        "dw.display_chart(chart_id)"
      ],
      "metadata": {
        "colab": {
          "base_uri": "https://localhost:8080/",
          "height": 421
        },
        "id": "YRO3X43V7H7B",
        "outputId": "c0d7bfb9-ab4e-4ca3-cf30-bce0743332c5"
      },
      "execution_count": 17,
      "outputs": [
        {
          "output_type": "execute_result",
          "data": {
            "text/plain": [
              "<IPython.lib.display.IFrame at 0x79279ee77dc0>"
            ],
            "text/html": [
              "\n",
              "        <iframe\n",
              "            width=\"600\"\n",
              "            height=\"400\"\n",
              "            src=\"https://datawrapper.dwcdn.net/7TbhK/1/\"\n",
              "            frameborder=\"0\"\n",
              "            allowfullscreen\n",
              "            \n",
              "        ></iframe>\n",
              "        "
            ]
          },
          "metadata": {},
          "execution_count": 17
        }
      ]
    },
    {
      "cell_type": "code",
      "source": [
        "dw.update_description(\n",
        "    chart_id,\n",
        "    source_name=\"OpenBaltimore\",\n",
        "    source_url=\"https://data.baltimorecity.gov/datasets/baltimore::bpd-arrests/about\",\n",
        "    byline=\"First Automated Chart\",\n",
        ")"
      ],
      "metadata": {
        "colab": {
          "base_uri": "https://localhost:8080/"
        },
        "id": "kOWO21X37VMv",
        "outputId": "9749d1df-1cdb-4219-ef8e-c3b4ca2296da"
      },
      "execution_count": 18,
      "outputs": [
        {
          "output_type": "execute_result",
          "data": {
            "text/plain": [
              "{'publicId': '7TbhK',\n",
              " 'language': 'en-US',\n",
              " 'theme': 'datawrapper',\n",
              " 'id': '7TbhK',\n",
              " 'type': 'column-chart',\n",
              " 'title': 'Baltimore Arrests',\n",
              " 'lastEditStep': 5,\n",
              " 'publishedAt': '2024-03-18T22:04:32.000Z',\n",
              " 'publicUrl': 'https://datawrapper.dwcdn.net/7TbhK/1/',\n",
              " 'publicVersion': 1,\n",
              " 'deleted': False,\n",
              " 'deletedAt': None,\n",
              " 'forkable': False,\n",
              " 'isFork': False,\n",
              " 'metadata': {'data': {'changes': [],\n",
              "   'transpose': False,\n",
              "   'vertical-header': True,\n",
              "   'horizontal-header': True},\n",
              "  'describe': {'source-name': 'OpenBaltimore',\n",
              "   'source-url': 'https://data.baltimorecity.gov/datasets/baltimore::bpd-arrests/about',\n",
              "   'intro': '',\n",
              "   'byline': 'First Automated Chart',\n",
              "   'aria-description': '',\n",
              "   'number-format': '-',\n",
              "   'number-divisor': 0,\n",
              "   'number-append': '',\n",
              "   'number-prepend': ''},\n",
              "  'visualize': {'dark-mode-invert': True,\n",
              "   'highlighted-series': [],\n",
              "   'highlighted-values': [],\n",
              "   'sharing': {'enabled': False}},\n",
              "  'axes': {},\n",
              "  'publish': {'embed-width': 600,\n",
              "   'embed-height': 400,\n",
              "   'blocks': {'logo': {'enabled': False},\n",
              "    'embed': False,\n",
              "    'download-pdf': False,\n",
              "    'download-svg': False,\n",
              "    'get-the-data': True,\n",
              "    'download-image': False},\n",
              "   'export-pdf': {},\n",
              "   'embed-codes': {'embed-method-iframe': '<iframe title=\"Baltimore Arrests\" aria-label=\"Column Chart\" id=\"datawrapper-chart-7TbhK\" src=\"https://datawrapper.dwcdn.net/7TbhK/1/\" scrolling=\"no\" frameborder=\"0\" style=\"border: none;\" width=\"600\" height=\"400\" data-external=\"1\"></iframe>',\n",
              "    'embed-method-responsive': '<iframe title=\"Baltimore Arrests\" aria-label=\"Column Chart\" id=\"datawrapper-chart-7TbhK\" src=\"https://datawrapper.dwcdn.net/7TbhK/1/\" scrolling=\"no\" frameborder=\"0\" style=\"width: 0; min-width: 100% !important; border: none;\" height=\"400\" data-external=\"1\"></iframe><script type=\"text/javascript\">!function(){\"use strict\";window.addEventListener(\"message\",(function(a){if(void 0!==a.data[\"datawrapper-height\"]){var e=document.querySelectorAll(\"iframe\");for(var t in a.data[\"datawrapper-height\"])for(var r=0;r<e.length;r++)if(e[r].contentWindow===a.source){var i=a.data[\"datawrapper-height\"][t]+\"px\";e[r].style.height=i}}}))}();\\n</script>',\n",
              "    'embed-method-web-component': '<div style=\"min-height:400px\"><script type=\"text/javascript\" defer src=\"https://datawrapper.dwcdn.net/7TbhK/embed.js?v=1\" charset=\"utf-8\"></script><noscript><img src=\"https://datawrapper.dwcdn.net/7TbhK/full.png\" alt=\"\" /></noscript></div>'}},\n",
              "  'annotate': {'notes': ''},\n",
              "  'custom': {}},\n",
              " 'externalData': None,\n",
              " 'utf8': False,\n",
              " 'createdAt': '2024-03-18T22:04:25.000Z',\n",
              " 'lastModifiedAt': '2024-03-18T22:04:37.000Z',\n",
              " 'forkedFrom': None,\n",
              " 'organizationId': 'dWi6fZly',\n",
              " 'authorId': 295587,\n",
              " 'folderId': None,\n",
              " 'url': '/v3/charts/7TbhK'}"
            ]
          },
          "metadata": {},
          "execution_count": 18
        }
      ]
    },
    {
      "cell_type": "code",
      "source": [
        "dw.publish_chart(chart_id)"
      ],
      "metadata": {
        "colab": {
          "base_uri": "https://localhost:8080/"
        },
        "id": "iq8hSW2G7b04",
        "outputId": "cca697a7-b51f-439b-b09e-7b5abb2f0884"
      },
      "execution_count": 19,
      "outputs": [
        {
          "output_type": "execute_result",
          "data": {
            "text/plain": [
              "{'data': {'publicId': '7TbhK',\n",
              "  'language': 'en-US',\n",
              "  'theme': 'datawrapper',\n",
              "  'id': '7TbhK',\n",
              "  'type': 'column-chart',\n",
              "  'title': 'Baltimore Arrests',\n",
              "  'lastEditStep': 5,\n",
              "  'publishedAt': '2024-03-18T22:04:41.041Z',\n",
              "  'publicUrl': 'https://datawrapper.dwcdn.net/7TbhK/2/',\n",
              "  'publicVersion': 2,\n",
              "  'deleted': False,\n",
              "  'deletedAt': None,\n",
              "  'forkable': False,\n",
              "  'isFork': False,\n",
              "  'metadata': {'data': {'changes': [],\n",
              "    'transpose': False,\n",
              "    'vertical-header': True,\n",
              "    'horizontal-header': True},\n",
              "   'describe': {'source-name': 'OpenBaltimore',\n",
              "    'source-url': 'https://data.baltimorecity.gov/datasets/baltimore::bpd-arrests/about',\n",
              "    'intro': '',\n",
              "    'byline': 'First Automated Chart',\n",
              "    'aria-description': '',\n",
              "    'number-format': '-',\n",
              "    'number-divisor': 0,\n",
              "    'number-append': '',\n",
              "    'number-prepend': ''},\n",
              "   'visualize': {'dark-mode-invert': True,\n",
              "    'highlighted-series': [],\n",
              "    'highlighted-values': [],\n",
              "    'sharing': {'enabled': False}},\n",
              "   'axes': {},\n",
              "   'publish': {'embed-width': 600,\n",
              "    'embed-height': 400,\n",
              "    'blocks': {'logo': {'enabled': False},\n",
              "     'embed': False,\n",
              "     'download-pdf': False,\n",
              "     'download-svg': False,\n",
              "     'get-the-data': True,\n",
              "     'download-image': False},\n",
              "    'export-pdf': {},\n",
              "    'embed-codes': {'embed-method-responsive': '<iframe title=\"Baltimore Arrests\" aria-label=\"Column Chart\" id=\"datawrapper-chart-7TbhK\" src=\"https://datawrapper.dwcdn.net/7TbhK/2/\" scrolling=\"no\" frameborder=\"0\" style=\"width: 0; min-width: 100% !important; border: none;\" height=\"400\" data-external=\"1\"></iframe><script type=\"text/javascript\">!function(){\"use strict\";window.addEventListener(\"message\",(function(a){if(void 0!==a.data[\"datawrapper-height\"]){var e=document.querySelectorAll(\"iframe\");for(var t in a.data[\"datawrapper-height\"])for(var r=0;r<e.length;r++)if(e[r].contentWindow===a.source){var i=a.data[\"datawrapper-height\"][t]+\"px\";e[r].style.height=i}}}))}();\\n</script>',\n",
              "     'embed-method-iframe': '<iframe title=\"Baltimore Arrests\" aria-label=\"Column Chart\" id=\"datawrapper-chart-7TbhK\" src=\"https://datawrapper.dwcdn.net/7TbhK/2/\" scrolling=\"no\" frameborder=\"0\" style=\"border: none;\" width=\"600\" height=\"400\" data-external=\"1\"></iframe>',\n",
              "     'embed-method-web-component': '<div style=\"min-height:400px\"><script type=\"text/javascript\" defer src=\"https://datawrapper.dwcdn.net/7TbhK/embed.js?v=2\" charset=\"utf-8\"></script><noscript><img src=\"https://datawrapper.dwcdn.net/7TbhK/full.png\" alt=\"\" /></noscript></div>'}},\n",
              "   'annotate': {'notes': ''},\n",
              "   'custom': {}},\n",
              "  'externalData': None,\n",
              "  'utf8': False,\n",
              "  'createdAt': '2024-03-18T22:04:25.000Z',\n",
              "  'lastModifiedAt': '2024-03-18T22:04:41.041Z',\n",
              "  'forkedFrom': None,\n",
              "  'organizationId': 'dWi6fZly',\n",
              "  'authorId': 295587,\n",
              "  'folderId': None},\n",
              " 'version': 2,\n",
              " 'url': 'https://datawrapper.dwcdn.net/7TbhK/2/'}"
            ]
          },
          "metadata": {},
          "execution_count": 19
        }
      ]
    },
    {
      "cell_type": "code",
      "source": [
        "dw.display_chart(chart_id)"
      ],
      "metadata": {
        "colab": {
          "base_uri": "https://localhost:8080/",
          "height": 421
        },
        "id": "m7kulObQ7lu-",
        "outputId": "64f69a0b-f57e-4a7d-a7a0-c7484e4eac4d"
      },
      "execution_count": 20,
      "outputs": [
        {
          "output_type": "execute_result",
          "data": {
            "text/plain": [
              "<IPython.lib.display.IFrame at 0x79279ee77bb0>"
            ],
            "text/html": [
              "\n",
              "        <iframe\n",
              "            width=\"600\"\n",
              "            height=\"400\"\n",
              "            src=\"https://datawrapper.dwcdn.net/7TbhK/2/\"\n",
              "            frameborder=\"0\"\n",
              "            allowfullscreen\n",
              "            \n",
              "        ></iframe>\n",
              "        "
            ]
          },
          "metadata": {},
          "execution_count": 20
        }
      ]
    },
    {
      "cell_type": "code",
      "source": [
        "metadata = {\n",
        "    \"visualize\": {\n",
        "        \"base-color\": \"#bf7836\"  # Our accent color\n",
        "    }\n",
        "}"
      ],
      "metadata": {
        "id": "kBpSyv4r7qd8"
      },
      "execution_count": 21,
      "outputs": []
    },
    {
      "cell_type": "code",
      "source": [
        "dw.update_chart(chart_id, metadata=metadata)"
      ],
      "metadata": {
        "colab": {
          "base_uri": "https://localhost:8080/"
        },
        "id": "aOJBZKpzlyN6",
        "outputId": "3a0fd2f3-cb26-4e11-bbe4-360a9d3d584b"
      },
      "execution_count": 22,
      "outputs": [
        {
          "output_type": "execute_result",
          "data": {
            "text/plain": [
              "{'publicId': '7TbhK',\n",
              " 'language': 'en-US',\n",
              " 'theme': 'datawrapper',\n",
              " 'id': '7TbhK',\n",
              " 'type': 'column-chart',\n",
              " 'title': 'Baltimore Arrests',\n",
              " 'lastEditStep': 5,\n",
              " 'publishedAt': '2024-03-18T22:04:41.000Z',\n",
              " 'publicUrl': 'https://datawrapper.dwcdn.net/7TbhK/2/',\n",
              " 'publicVersion': 2,\n",
              " 'deleted': False,\n",
              " 'deletedAt': None,\n",
              " 'forkable': False,\n",
              " 'isFork': False,\n",
              " 'metadata': {'data': {'changes': [],\n",
              "   'transpose': False,\n",
              "   'vertical-header': True,\n",
              "   'horizontal-header': True},\n",
              "  'describe': {'source-name': 'OpenBaltimore',\n",
              "   'source-url': 'https://data.baltimorecity.gov/datasets/baltimore::bpd-arrests/about',\n",
              "   'intro': '',\n",
              "   'byline': 'First Automated Chart',\n",
              "   'aria-description': '',\n",
              "   'number-format': '-',\n",
              "   'number-divisor': 0,\n",
              "   'number-append': '',\n",
              "   'number-prepend': ''},\n",
              "  'visualize': {'dark-mode-invert': True,\n",
              "   'highlighted-series': [],\n",
              "   'highlighted-values': [],\n",
              "   'sharing': {'enabled': False},\n",
              "   'base-color': '#bf7836'},\n",
              "  'axes': {},\n",
              "  'publish': {'embed-width': 600,\n",
              "   'embed-height': 400,\n",
              "   'blocks': {'logo': {'enabled': False},\n",
              "    'embed': False,\n",
              "    'download-pdf': False,\n",
              "    'download-svg': False,\n",
              "    'get-the-data': True,\n",
              "    'download-image': False},\n",
              "   'export-pdf': {},\n",
              "   'embed-codes': {'embed-method-iframe': '<iframe title=\"Baltimore Arrests\" aria-label=\"Column Chart\" id=\"datawrapper-chart-7TbhK\" src=\"https://datawrapper.dwcdn.net/7TbhK/2/\" scrolling=\"no\" frameborder=\"0\" style=\"border: none;\" width=\"600\" height=\"400\" data-external=\"1\"></iframe>',\n",
              "    'embed-method-responsive': '<iframe title=\"Baltimore Arrests\" aria-label=\"Column Chart\" id=\"datawrapper-chart-7TbhK\" src=\"https://datawrapper.dwcdn.net/7TbhK/2/\" scrolling=\"no\" frameborder=\"0\" style=\"width: 0; min-width: 100% !important; border: none;\" height=\"400\" data-external=\"1\"></iframe><script type=\"text/javascript\">!function(){\"use strict\";window.addEventListener(\"message\",(function(a){if(void 0!==a.data[\"datawrapper-height\"]){var e=document.querySelectorAll(\"iframe\");for(var t in a.data[\"datawrapper-height\"])for(var r=0;r<e.length;r++)if(e[r].contentWindow===a.source){var i=a.data[\"datawrapper-height\"][t]+\"px\";e[r].style.height=i}}}))}();\\n</script>',\n",
              "    'embed-method-web-component': '<div style=\"min-height:400px\"><script type=\"text/javascript\" defer src=\"https://datawrapper.dwcdn.net/7TbhK/embed.js?v=2\" charset=\"utf-8\"></script><noscript><img src=\"https://datawrapper.dwcdn.net/7TbhK/full.png\" alt=\"\" /></noscript></div>'}},\n",
              "  'annotate': {'notes': ''},\n",
              "  'custom': {}},\n",
              " 'externalData': None,\n",
              " 'utf8': False,\n",
              " 'createdAt': '2024-03-18T22:04:25.000Z',\n",
              " 'lastModifiedAt': '2024-03-18T22:04:48.000Z',\n",
              " 'forkedFrom': None,\n",
              " 'organizationId': 'dWi6fZly',\n",
              " 'authorId': 295587,\n",
              " 'folderId': None,\n",
              " 'url': '/v3/charts/7TbhK'}"
            ]
          },
          "metadata": {},
          "execution_count": 22
        }
      ]
    },
    {
      "cell_type": "code",
      "source": [
        "dw.publish_chart(chart_id)"
      ],
      "metadata": {
        "colab": {
          "base_uri": "https://localhost:8080/"
        },
        "id": "L8S1db6Dl1dV",
        "outputId": "bbab3ee0-5885-4d0f-97b2-01cff9a508f7"
      },
      "execution_count": 23,
      "outputs": [
        {
          "output_type": "execute_result",
          "data": {
            "text/plain": [
              "{'data': {'publicId': '7TbhK',\n",
              "  'language': 'en-US',\n",
              "  'theme': 'datawrapper',\n",
              "  'id': '7TbhK',\n",
              "  'type': 'column-chart',\n",
              "  'title': 'Baltimore Arrests',\n",
              "  'lastEditStep': 5,\n",
              "  'publishedAt': '2024-03-18T22:05:11.093Z',\n",
              "  'publicUrl': 'https://datawrapper.dwcdn.net/7TbhK/3/',\n",
              "  'publicVersion': 3,\n",
              "  'deleted': False,\n",
              "  'deletedAt': None,\n",
              "  'forkable': False,\n",
              "  'isFork': False,\n",
              "  'metadata': {'data': {'changes': [],\n",
              "    'transpose': False,\n",
              "    'vertical-header': True,\n",
              "    'horizontal-header': True},\n",
              "   'describe': {'source-name': 'OpenBaltimore',\n",
              "    'source-url': 'https://data.baltimorecity.gov/datasets/baltimore::bpd-arrests/about',\n",
              "    'intro': '',\n",
              "    'byline': 'First Automated Chart',\n",
              "    'aria-description': '',\n",
              "    'number-format': '-',\n",
              "    'number-divisor': 0,\n",
              "    'number-append': '',\n",
              "    'number-prepend': ''},\n",
              "   'visualize': {'dark-mode-invert': True,\n",
              "    'highlighted-series': [],\n",
              "    'highlighted-values': [],\n",
              "    'sharing': {'enabled': False},\n",
              "    'base-color': '#bf7836'},\n",
              "   'axes': {},\n",
              "   'publish': {'embed-width': 600,\n",
              "    'embed-height': 400,\n",
              "    'blocks': {'logo': {'enabled': False},\n",
              "     'embed': False,\n",
              "     'download-pdf': False,\n",
              "     'download-svg': False,\n",
              "     'get-the-data': True,\n",
              "     'download-image': False},\n",
              "    'export-pdf': {},\n",
              "    'embed-codes': {'embed-method-responsive': '<iframe title=\"Baltimore Arrests\" aria-label=\"Column Chart\" id=\"datawrapper-chart-7TbhK\" src=\"https://datawrapper.dwcdn.net/7TbhK/3/\" scrolling=\"no\" frameborder=\"0\" style=\"width: 0; min-width: 100% !important; border: none;\" height=\"400\" data-external=\"1\"></iframe><script type=\"text/javascript\">!function(){\"use strict\";window.addEventListener(\"message\",(function(a){if(void 0!==a.data[\"datawrapper-height\"]){var e=document.querySelectorAll(\"iframe\");for(var t in a.data[\"datawrapper-height\"])for(var r=0;r<e.length;r++)if(e[r].contentWindow===a.source){var i=a.data[\"datawrapper-height\"][t]+\"px\";e[r].style.height=i}}}))}();\\n</script>',\n",
              "     'embed-method-iframe': '<iframe title=\"Baltimore Arrests\" aria-label=\"Column Chart\" id=\"datawrapper-chart-7TbhK\" src=\"https://datawrapper.dwcdn.net/7TbhK/3/\" scrolling=\"no\" frameborder=\"0\" style=\"border: none;\" width=\"600\" height=\"400\" data-external=\"1\"></iframe>',\n",
              "     'embed-method-web-component': '<div style=\"min-height:400px\"><script type=\"text/javascript\" defer src=\"https://datawrapper.dwcdn.net/7TbhK/embed.js?v=3\" charset=\"utf-8\"></script><noscript><img src=\"https://datawrapper.dwcdn.net/7TbhK/full.png\" alt=\"\" /></noscript></div>'}},\n",
              "   'annotate': {'notes': ''},\n",
              "   'custom': {}},\n",
              "  'externalData': None,\n",
              "  'utf8': False,\n",
              "  'createdAt': '2024-03-18T22:04:25.000Z',\n",
              "  'lastModifiedAt': '2024-03-18T22:05:11.093Z',\n",
              "  'forkedFrom': None,\n",
              "  'organizationId': 'dWi6fZly',\n",
              "  'authorId': 295587,\n",
              "  'folderId': None},\n",
              " 'version': 3,\n",
              " 'url': 'https://datawrapper.dwcdn.net/7TbhK/3/'}"
            ]
          },
          "metadata": {},
          "execution_count": 23
        }
      ]
    },
    {
      "cell_type": "code",
      "source": [
        "dw.display_chart(chart_id)"
      ],
      "metadata": {
        "colab": {
          "base_uri": "https://localhost:8080/",
          "height": 421
        },
        "id": "9za0wqj7mNW7",
        "outputId": "7b0b2c3a-1e45-414e-9620-7de930970a5d"
      },
      "execution_count": 24,
      "outputs": [
        {
          "output_type": "execute_result",
          "data": {
            "text/plain": [
              "<IPython.lib.display.IFrame at 0x7927ce7931c0>"
            ],
            "text/html": [
              "\n",
              "        <iframe\n",
              "            width=\"600\"\n",
              "            height=\"400\"\n",
              "            src=\"https://datawrapper.dwcdn.net/7TbhK/3/\"\n",
              "            frameborder=\"0\"\n",
              "            allowfullscreen\n",
              "            \n",
              "        ></iframe>\n",
              "        "
            ]
          },
          "metadata": {},
          "execution_count": 24
        }
      ]
    },
    {
      "cell_type": "code",
      "source": [
        "df.head()"
      ],
      "metadata": {
        "colab": {
          "base_uri": "https://localhost:8080/",
          "height": 342
        },
        "id": "5tbnKNsKmP3I",
        "outputId": "fbc651c7-c3b0-4bee-8b33-ed4c6ce630f6"
      },
      "execution_count": 25,
      "outputs": [
        {
          "output_type": "execute_result",
          "data": {
            "text/plain": [
              "   RowID             X              Y IncidentNumber  ArrestNumber   Age  \\\n",
              "0     29  1.401347e+06  608148.870493       22L09338    23000037.0  39.0   \n",
              "1     30  1.401347e+06  608148.870493       22L09338    23000039.0  50.0   \n",
              "2     31           NaN            NaN            NaN    23000010.0  27.0   \n",
              "3     32  1.417636e+06  595206.835862       22L09343    23000050.0  42.0   \n",
              "4     33           NaN            NaN       22L09312    22157183.0  43.0   \n",
              "\n",
              "  Gender Race      ArrestDateTime    ArrestLocation  ...   ChargeDescription  \\\n",
              "0      M    B 2022-12-31 23:50:00   4000 OAKFORD ST  ...  HAND GUN VIOLATION   \n",
              "1      M    B 2022-12-31 23:50:00   4000 OAKFORD ST  ...  HAND GUN VIOLATION   \n",
              "2      M    B 2022-12-31 23:40:00               NaN  ...   FAILURE TO APPEAR   \n",
              "3      M    B 2022-12-31 23:15:00    500 DOLPHIN ST  ...  HAND GUN VIOLATION   \n",
              "4      F    W 2022-12-31 21:00:00  1500 BECKLOW AVE  ...         STOLEN AUTO   \n",
              "\n",
              "    District   Post    Neighborhood Latitude  Longitude         GeoLocation  \\\n",
              "0  Northwest  621.0  West Arlington  39.3361   -76.6853  (39.3361,-76.6853)   \n",
              "1  Northwest  621.0  West Arlington  39.3361   -76.6853  (39.3361,-76.6853)   \n",
              "2        NaN    NaN             NaN      NaN        NaN                 (,)   \n",
              "3    Central  123.0           Upton  39.3004   -76.6279  (39.3004,-76.6279)   \n",
              "4        NaN    NaN             NaN      NaN        NaN                 (,)   \n",
              "\n",
              "   Shape  Year  year  \n",
              "0    NaN  2022  2022  \n",
              "1    NaN  2022  2022  \n",
              "2    NaN  2022  2022  \n",
              "3    NaN  2022  2022  \n",
              "4    NaN  2022  2022  \n",
              "\n",
              "[5 rows x 23 columns]"
            ],
            "text/html": [
              "\n",
              "  <div id=\"df-b5411b65-7b99-435e-8b83-ab822e84ae94\" class=\"colab-df-container\">\n",
              "    <div>\n",
              "<style scoped>\n",
              "    .dataframe tbody tr th:only-of-type {\n",
              "        vertical-align: middle;\n",
              "    }\n",
              "\n",
              "    .dataframe tbody tr th {\n",
              "        vertical-align: top;\n",
              "    }\n",
              "\n",
              "    .dataframe thead th {\n",
              "        text-align: right;\n",
              "    }\n",
              "</style>\n",
              "<table border=\"1\" class=\"dataframe\">\n",
              "  <thead>\n",
              "    <tr style=\"text-align: right;\">\n",
              "      <th></th>\n",
              "      <th>RowID</th>\n",
              "      <th>X</th>\n",
              "      <th>Y</th>\n",
              "      <th>IncidentNumber</th>\n",
              "      <th>ArrestNumber</th>\n",
              "      <th>Age</th>\n",
              "      <th>Gender</th>\n",
              "      <th>Race</th>\n",
              "      <th>ArrestDateTime</th>\n",
              "      <th>ArrestLocation</th>\n",
              "      <th>...</th>\n",
              "      <th>ChargeDescription</th>\n",
              "      <th>District</th>\n",
              "      <th>Post</th>\n",
              "      <th>Neighborhood</th>\n",
              "      <th>Latitude</th>\n",
              "      <th>Longitude</th>\n",
              "      <th>GeoLocation</th>\n",
              "      <th>Shape</th>\n",
              "      <th>Year</th>\n",
              "      <th>year</th>\n",
              "    </tr>\n",
              "  </thead>\n",
              "  <tbody>\n",
              "    <tr>\n",
              "      <th>0</th>\n",
              "      <td>29</td>\n",
              "      <td>1.401347e+06</td>\n",
              "      <td>608148.870493</td>\n",
              "      <td>22L09338</td>\n",
              "      <td>23000037.0</td>\n",
              "      <td>39.0</td>\n",
              "      <td>M</td>\n",
              "      <td>B</td>\n",
              "      <td>2022-12-31 23:50:00</td>\n",
              "      <td>4000 OAKFORD ST</td>\n",
              "      <td>...</td>\n",
              "      <td>HAND GUN VIOLATION</td>\n",
              "      <td>Northwest</td>\n",
              "      <td>621.0</td>\n",
              "      <td>West Arlington</td>\n",
              "      <td>39.3361</td>\n",
              "      <td>-76.6853</td>\n",
              "      <td>(39.3361,-76.6853)</td>\n",
              "      <td>NaN</td>\n",
              "      <td>2022</td>\n",
              "      <td>2022</td>\n",
              "    </tr>\n",
              "    <tr>\n",
              "      <th>1</th>\n",
              "      <td>30</td>\n",
              "      <td>1.401347e+06</td>\n",
              "      <td>608148.870493</td>\n",
              "      <td>22L09338</td>\n",
              "      <td>23000039.0</td>\n",
              "      <td>50.0</td>\n",
              "      <td>M</td>\n",
              "      <td>B</td>\n",
              "      <td>2022-12-31 23:50:00</td>\n",
              "      <td>4000 OAKFORD ST</td>\n",
              "      <td>...</td>\n",
              "      <td>HAND GUN VIOLATION</td>\n",
              "      <td>Northwest</td>\n",
              "      <td>621.0</td>\n",
              "      <td>West Arlington</td>\n",
              "      <td>39.3361</td>\n",
              "      <td>-76.6853</td>\n",
              "      <td>(39.3361,-76.6853)</td>\n",
              "      <td>NaN</td>\n",
              "      <td>2022</td>\n",
              "      <td>2022</td>\n",
              "    </tr>\n",
              "    <tr>\n",
              "      <th>2</th>\n",
              "      <td>31</td>\n",
              "      <td>NaN</td>\n",
              "      <td>NaN</td>\n",
              "      <td>NaN</td>\n",
              "      <td>23000010.0</td>\n",
              "      <td>27.0</td>\n",
              "      <td>M</td>\n",
              "      <td>B</td>\n",
              "      <td>2022-12-31 23:40:00</td>\n",
              "      <td>NaN</td>\n",
              "      <td>...</td>\n",
              "      <td>FAILURE TO APPEAR</td>\n",
              "      <td>NaN</td>\n",
              "      <td>NaN</td>\n",
              "      <td>NaN</td>\n",
              "      <td>NaN</td>\n",
              "      <td>NaN</td>\n",
              "      <td>(,)</td>\n",
              "      <td>NaN</td>\n",
              "      <td>2022</td>\n",
              "      <td>2022</td>\n",
              "    </tr>\n",
              "    <tr>\n",
              "      <th>3</th>\n",
              "      <td>32</td>\n",
              "      <td>1.417636e+06</td>\n",
              "      <td>595206.835862</td>\n",
              "      <td>22L09343</td>\n",
              "      <td>23000050.0</td>\n",
              "      <td>42.0</td>\n",
              "      <td>M</td>\n",
              "      <td>B</td>\n",
              "      <td>2022-12-31 23:15:00</td>\n",
              "      <td>500 DOLPHIN ST</td>\n",
              "      <td>...</td>\n",
              "      <td>HAND GUN VIOLATION</td>\n",
              "      <td>Central</td>\n",
              "      <td>123.0</td>\n",
              "      <td>Upton</td>\n",
              "      <td>39.3004</td>\n",
              "      <td>-76.6279</td>\n",
              "      <td>(39.3004,-76.6279)</td>\n",
              "      <td>NaN</td>\n",
              "      <td>2022</td>\n",
              "      <td>2022</td>\n",
              "    </tr>\n",
              "    <tr>\n",
              "      <th>4</th>\n",
              "      <td>33</td>\n",
              "      <td>NaN</td>\n",
              "      <td>NaN</td>\n",
              "      <td>22L09312</td>\n",
              "      <td>22157183.0</td>\n",
              "      <td>43.0</td>\n",
              "      <td>F</td>\n",
              "      <td>W</td>\n",
              "      <td>2022-12-31 21:00:00</td>\n",
              "      <td>1500 BECKLOW AVE</td>\n",
              "      <td>...</td>\n",
              "      <td>STOLEN AUTO</td>\n",
              "      <td>NaN</td>\n",
              "      <td>NaN</td>\n",
              "      <td>NaN</td>\n",
              "      <td>NaN</td>\n",
              "      <td>NaN</td>\n",
              "      <td>(,)</td>\n",
              "      <td>NaN</td>\n",
              "      <td>2022</td>\n",
              "      <td>2022</td>\n",
              "    </tr>\n",
              "  </tbody>\n",
              "</table>\n",
              "<p>5 rows × 23 columns</p>\n",
              "</div>\n",
              "    <div class=\"colab-df-buttons\">\n",
              "\n",
              "  <div class=\"colab-df-container\">\n",
              "    <button class=\"colab-df-convert\" onclick=\"convertToInteractive('df-b5411b65-7b99-435e-8b83-ab822e84ae94')\"\n",
              "            title=\"Convert this dataframe to an interactive table.\"\n",
              "            style=\"display:none;\">\n",
              "\n",
              "  <svg xmlns=\"http://www.w3.org/2000/svg\" height=\"24px\" viewBox=\"0 -960 960 960\">\n",
              "    <path d=\"M120-120v-720h720v720H120Zm60-500h600v-160H180v160Zm220 220h160v-160H400v160Zm0 220h160v-160H400v160ZM180-400h160v-160H180v160Zm440 0h160v-160H620v160ZM180-180h160v-160H180v160Zm440 0h160v-160H620v160Z\"/>\n",
              "  </svg>\n",
              "    </button>\n",
              "\n",
              "  <style>\n",
              "    .colab-df-container {\n",
              "      display:flex;\n",
              "      gap: 12px;\n",
              "    }\n",
              "\n",
              "    .colab-df-convert {\n",
              "      background-color: #E8F0FE;\n",
              "      border: none;\n",
              "      border-radius: 50%;\n",
              "      cursor: pointer;\n",
              "      display: none;\n",
              "      fill: #1967D2;\n",
              "      height: 32px;\n",
              "      padding: 0 0 0 0;\n",
              "      width: 32px;\n",
              "    }\n",
              "\n",
              "    .colab-df-convert:hover {\n",
              "      background-color: #E2EBFA;\n",
              "      box-shadow: 0px 1px 2px rgba(60, 64, 67, 0.3), 0px 1px 3px 1px rgba(60, 64, 67, 0.15);\n",
              "      fill: #174EA6;\n",
              "    }\n",
              "\n",
              "    .colab-df-buttons div {\n",
              "      margin-bottom: 4px;\n",
              "    }\n",
              "\n",
              "    [theme=dark] .colab-df-convert {\n",
              "      background-color: #3B4455;\n",
              "      fill: #D2E3FC;\n",
              "    }\n",
              "\n",
              "    [theme=dark] .colab-df-convert:hover {\n",
              "      background-color: #434B5C;\n",
              "      box-shadow: 0px 1px 3px 1px rgba(0, 0, 0, 0.15);\n",
              "      filter: drop-shadow(0px 1px 2px rgba(0, 0, 0, 0.3));\n",
              "      fill: #FFFFFF;\n",
              "    }\n",
              "  </style>\n",
              "\n",
              "    <script>\n",
              "      const buttonEl =\n",
              "        document.querySelector('#df-b5411b65-7b99-435e-8b83-ab822e84ae94 button.colab-df-convert');\n",
              "      buttonEl.style.display =\n",
              "        google.colab.kernel.accessAllowed ? 'block' : 'none';\n",
              "\n",
              "      async function convertToInteractive(key) {\n",
              "        const element = document.querySelector('#df-b5411b65-7b99-435e-8b83-ab822e84ae94');\n",
              "        const dataTable =\n",
              "          await google.colab.kernel.invokeFunction('convertToInteractive',\n",
              "                                                    [key], {});\n",
              "        if (!dataTable) return;\n",
              "\n",
              "        const docLinkHtml = 'Like what you see? Visit the ' +\n",
              "          '<a target=\"_blank\" href=https://colab.research.google.com/notebooks/data_table.ipynb>data table notebook</a>'\n",
              "          + ' to learn more about interactive tables.';\n",
              "        element.innerHTML = '';\n",
              "        dataTable['output_type'] = 'display_data';\n",
              "        await google.colab.output.renderOutput(dataTable, element);\n",
              "        const docLink = document.createElement('div');\n",
              "        docLink.innerHTML = docLinkHtml;\n",
              "        element.appendChild(docLink);\n",
              "      }\n",
              "    </script>\n",
              "  </div>\n",
              "\n",
              "\n",
              "<div id=\"df-203b03f8-9a52-40bb-a524-25960e198c0d\">\n",
              "  <button class=\"colab-df-quickchart\" onclick=\"quickchart('df-203b03f8-9a52-40bb-a524-25960e198c0d')\"\n",
              "            title=\"Suggest charts\"\n",
              "            style=\"display:none;\">\n",
              "\n",
              "<svg xmlns=\"http://www.w3.org/2000/svg\" height=\"24px\"viewBox=\"0 0 24 24\"\n",
              "     width=\"24px\">\n",
              "    <g>\n",
              "        <path d=\"M19 3H5c-1.1 0-2 .9-2 2v14c0 1.1.9 2 2 2h14c1.1 0 2-.9 2-2V5c0-1.1-.9-2-2-2zM9 17H7v-7h2v7zm4 0h-2V7h2v10zm4 0h-2v-4h2v4z\"/>\n",
              "    </g>\n",
              "</svg>\n",
              "  </button>\n",
              "\n",
              "<style>\n",
              "  .colab-df-quickchart {\n",
              "      --bg-color: #E8F0FE;\n",
              "      --fill-color: #1967D2;\n",
              "      --hover-bg-color: #E2EBFA;\n",
              "      --hover-fill-color: #174EA6;\n",
              "      --disabled-fill-color: #AAA;\n",
              "      --disabled-bg-color: #DDD;\n",
              "  }\n",
              "\n",
              "  [theme=dark] .colab-df-quickchart {\n",
              "      --bg-color: #3B4455;\n",
              "      --fill-color: #D2E3FC;\n",
              "      --hover-bg-color: #434B5C;\n",
              "      --hover-fill-color: #FFFFFF;\n",
              "      --disabled-bg-color: #3B4455;\n",
              "      --disabled-fill-color: #666;\n",
              "  }\n",
              "\n",
              "  .colab-df-quickchart {\n",
              "    background-color: var(--bg-color);\n",
              "    border: none;\n",
              "    border-radius: 50%;\n",
              "    cursor: pointer;\n",
              "    display: none;\n",
              "    fill: var(--fill-color);\n",
              "    height: 32px;\n",
              "    padding: 0;\n",
              "    width: 32px;\n",
              "  }\n",
              "\n",
              "  .colab-df-quickchart:hover {\n",
              "    background-color: var(--hover-bg-color);\n",
              "    box-shadow: 0 1px 2px rgba(60, 64, 67, 0.3), 0 1px 3px 1px rgba(60, 64, 67, 0.15);\n",
              "    fill: var(--button-hover-fill-color);\n",
              "  }\n",
              "\n",
              "  .colab-df-quickchart-complete:disabled,\n",
              "  .colab-df-quickchart-complete:disabled:hover {\n",
              "    background-color: var(--disabled-bg-color);\n",
              "    fill: var(--disabled-fill-color);\n",
              "    box-shadow: none;\n",
              "  }\n",
              "\n",
              "  .colab-df-spinner {\n",
              "    border: 2px solid var(--fill-color);\n",
              "    border-color: transparent;\n",
              "    border-bottom-color: var(--fill-color);\n",
              "    animation:\n",
              "      spin 1s steps(1) infinite;\n",
              "  }\n",
              "\n",
              "  @keyframes spin {\n",
              "    0% {\n",
              "      border-color: transparent;\n",
              "      border-bottom-color: var(--fill-color);\n",
              "      border-left-color: var(--fill-color);\n",
              "    }\n",
              "    20% {\n",
              "      border-color: transparent;\n",
              "      border-left-color: var(--fill-color);\n",
              "      border-top-color: var(--fill-color);\n",
              "    }\n",
              "    30% {\n",
              "      border-color: transparent;\n",
              "      border-left-color: var(--fill-color);\n",
              "      border-top-color: var(--fill-color);\n",
              "      border-right-color: var(--fill-color);\n",
              "    }\n",
              "    40% {\n",
              "      border-color: transparent;\n",
              "      border-right-color: var(--fill-color);\n",
              "      border-top-color: var(--fill-color);\n",
              "    }\n",
              "    60% {\n",
              "      border-color: transparent;\n",
              "      border-right-color: var(--fill-color);\n",
              "    }\n",
              "    80% {\n",
              "      border-color: transparent;\n",
              "      border-right-color: var(--fill-color);\n",
              "      border-bottom-color: var(--fill-color);\n",
              "    }\n",
              "    90% {\n",
              "      border-color: transparent;\n",
              "      border-bottom-color: var(--fill-color);\n",
              "    }\n",
              "  }\n",
              "</style>\n",
              "\n",
              "  <script>\n",
              "    async function quickchart(key) {\n",
              "      const quickchartButtonEl =\n",
              "        document.querySelector('#' + key + ' button');\n",
              "      quickchartButtonEl.disabled = true;  // To prevent multiple clicks.\n",
              "      quickchartButtonEl.classList.add('colab-df-spinner');\n",
              "      try {\n",
              "        const charts = await google.colab.kernel.invokeFunction(\n",
              "            'suggestCharts', [key], {});\n",
              "      } catch (error) {\n",
              "        console.error('Error during call to suggestCharts:', error);\n",
              "      }\n",
              "      quickchartButtonEl.classList.remove('colab-df-spinner');\n",
              "      quickchartButtonEl.classList.add('colab-df-quickchart-complete');\n",
              "    }\n",
              "    (() => {\n",
              "      let quickchartButtonEl =\n",
              "        document.querySelector('#df-203b03f8-9a52-40bb-a524-25960e198c0d button');\n",
              "      quickchartButtonEl.style.display =\n",
              "        google.colab.kernel.accessAllowed ? 'block' : 'none';\n",
              "    })();\n",
              "  </script>\n",
              "</div>\n",
              "\n",
              "    </div>\n",
              "  </div>\n"
            ],
            "application/vnd.google.colaboratory.intrinsic+json": {
              "type": "dataframe",
              "variable_name": "df"
            }
          },
          "metadata": {},
          "execution_count": 25
        }
      ]
    },
    {
      "cell_type": "code",
      "source": [
        "df.District.value_counts()"
      ],
      "metadata": {
        "colab": {
          "base_uri": "https://localhost:8080/"
        },
        "id": "1iqJDwiumVUI",
        "outputId": "1db65951-cfb5-42d5-840e-691a5366fc5d"
      },
      "execution_count": 26,
      "outputs": [
        {
          "output_type": "execute_result",
          "data": {
            "text/plain": [
              "Western      29842\n",
              "Central      28501\n",
              "Eastern      28114\n",
              "Southern     25780\n",
              "Northeast    24180\n",
              "Southeast    23710\n",
              "Northwest    22044\n",
              "Southwest    21822\n",
              "Northern     13087\n",
              "Name: District, dtype: int64"
            ]
          },
          "metadata": {},
          "execution_count": 26
        }
      ]
    },
    {
      "cell_type": "code",
      "source": [
        "def create_chart(district: str) -> str:\n",
        "    \"\"\"Create a Datawrapper column chart of arrests by year in a Baltimore police district.\n",
        "\n",
        "    Args:\n",
        "        district: The name of the district to chart.\n",
        "\n",
        "    Returns:\n",
        "        The chart's embed code.\n",
        "    \"\"\"\n",
        "    # Filter the dataframe to the provided district\n",
        "    district_df = df[df.District == district]\n",
        "\n",
        "    # Count the number of arrests in each year\n",
        "    district_by_year = district_df.year.value_counts().sort_index().reset_index()\n",
        "\n",
        "    # Create the chart with Datawrapper\n",
        "    chart_config = dw.create_chart(\n",
        "        # Use the district name in the title\n",
        "        title=f\"Arrests in Baltimore's {district} District\",\n",
        "        # Use the column chart type\n",
        "        chart_type=\"column-chart\",\n",
        "        # Pass in the filtered data\n",
        "        data=district_by_year,\n",
        "        metadata={\n",
        "            # Set the bar colors\n",
        "            \"visualize\": {\n",
        "                \"base-color\": \"#bf7836\"  # IRE's accent color\n",
        "            },\n",
        "            # Set the chart description\n",
        "            \"describe\": {\n",
        "                \"source-name\": \"OpenBaltimore\",\n",
        "                \"source-url\": \"https://data.baltimorecity.gov/datasets/baltimore::bpd-arrests/about\",\n",
        "                \"byline\": \"First Automated Chart\"\n",
        "            }\n",
        "        }\n",
        "    )\n",
        "\n",
        "    # Pull out the chart's unique identifier\n",
        "    chart_id = chart_config[\"id\"]\n",
        "\n",
        "    # Publish the chart\n",
        "    dw.publish_chart(chart_id)\n",
        "\n",
        "    # Return the chart's embed code\n",
        "    return dw.display_chart(chart_id)"
      ],
      "metadata": {
        "id": "nXiV38Csmbes"
      },
      "execution_count": 27,
      "outputs": []
    },
    {
      "cell_type": "code",
      "source": [
        "create_chart(\"Western\")"
      ],
      "metadata": {
        "colab": {
          "base_uri": "https://localhost:8080/",
          "height": 421
        },
        "id": "2u0yY3kFmofF",
        "outputId": "d21fe131-28f1-4a78-f31d-cfdfad15a736"
      },
      "execution_count": 28,
      "outputs": [
        {
          "output_type": "execute_result",
          "data": {
            "text/plain": [
              "<IPython.lib.display.IFrame at 0x792796cf5570>"
            ],
            "text/html": [
              "\n",
              "        <iframe\n",
              "            width=\"600\"\n",
              "            height=\"400\"\n",
              "            src=\"https://datawrapper.dwcdn.net/pMu4s/1/\"\n",
              "            frameborder=\"0\"\n",
              "            allowfullscreen\n",
              "            \n",
              "        ></iframe>\n",
              "        "
            ]
          },
          "metadata": {},
          "execution_count": 28
        }
      ]
    },
    {
      "cell_type": "code",
      "source": [
        "create_chart(\"Eastern\")"
      ],
      "metadata": {
        "colab": {
          "base_uri": "https://localhost:8080/",
          "height": 421
        },
        "id": "A72cUbWdmr_p",
        "outputId": "955d12ac-ade2-438f-8df5-56bd190ef65a"
      },
      "execution_count": 29,
      "outputs": [
        {
          "output_type": "execute_result",
          "data": {
            "text/plain": [
              "<IPython.lib.display.IFrame at 0x7927ce92ee30>"
            ],
            "text/html": [
              "\n",
              "        <iframe\n",
              "            width=\"600\"\n",
              "            height=\"400\"\n",
              "            src=\"https://datawrapper.dwcdn.net/6H8FG/1/\"\n",
              "            frameborder=\"0\"\n",
              "            allowfullscreen\n",
              "            \n",
              "        ></iframe>\n",
              "        "
            ]
          },
          "metadata": {},
          "execution_count": 29
        }
      ]
    },
    {
      "cell_type": "code",
      "source": [
        "# Create an empty list to hold the charts\n",
        "chart_list = []\n",
        "\n",
        "# Loop through the unique districts...\n",
        "for district in df.District.dropna().unique():\n",
        "    # Print a message to the console\n",
        "    print(f\"Creating chart for the {district} District\")\n",
        "\n",
        "    # Create a chart for the district and save it as a variable\n",
        "    c = create_chart(district)\n",
        "\n",
        "    # Add the chart to the list\n",
        "    chart_list.append(c)"
      ],
      "metadata": {
        "colab": {
          "base_uri": "https://localhost:8080/"
        },
        "id": "ya72KBUWmwE-",
        "outputId": "ab03f380-2189-4743-d247-623250b77971"
      },
      "execution_count": 30,
      "outputs": [
        {
          "output_type": "stream",
          "name": "stdout",
          "text": [
            "Creating chart for the Northwest District\n",
            "Creating chart for the Central District\n",
            "Creating chart for the Western District\n",
            "Creating chart for the Eastern District\n",
            "Creating chart for the Northeast District\n",
            "Creating chart for the Southern District\n",
            "Creating chart for the Southeast District\n",
            "Creating chart for the Northern District\n",
            "Creating chart for the Southwest District\n"
          ]
        }
      ]
    },
    {
      "cell_type": "code",
      "source": [
        "from IPython.display import display"
      ],
      "metadata": {
        "id": "qAk8d8DNm0sE"
      },
      "execution_count": 31,
      "outputs": []
    },
    {
      "cell_type": "code",
      "source": [
        "display(*chart_list)"
      ],
      "metadata": {
        "colab": {
          "base_uri": "https://localhost:8080/",
          "height": 1000
        },
        "id": "TFLcQp41nBRS",
        "outputId": "3120d6c0-f14c-478e-9d56-7f6fc586c181"
      },
      "execution_count": 32,
      "outputs": [
        {
          "output_type": "display_data",
          "data": {
            "text/plain": [
              "<IPython.lib.display.IFrame at 0x7927cdb3d540>"
            ],
            "text/html": [
              "\n",
              "        <iframe\n",
              "            width=\"600\"\n",
              "            height=\"400\"\n",
              "            src=\"https://datawrapper.dwcdn.net/me2Hn/1/\"\n",
              "            frameborder=\"0\"\n",
              "            allowfullscreen\n",
              "            \n",
              "        ></iframe>\n",
              "        "
            ]
          },
          "metadata": {}
        },
        {
          "output_type": "display_data",
          "data": {
            "text/plain": [
              "<IPython.lib.display.IFrame at 0x79279ee77df0>"
            ],
            "text/html": [
              "\n",
              "        <iframe\n",
              "            width=\"600\"\n",
              "            height=\"400\"\n",
              "            src=\"https://datawrapper.dwcdn.net/C9UJD/1/\"\n",
              "            frameborder=\"0\"\n",
              "            allowfullscreen\n",
              "            \n",
              "        ></iframe>\n",
              "        "
            ]
          },
          "metadata": {}
        },
        {
          "output_type": "display_data",
          "data": {
            "text/plain": [
              "<IPython.lib.display.IFrame at 0x79279ee75e70>"
            ],
            "text/html": [
              "\n",
              "        <iframe\n",
              "            width=\"600\"\n",
              "            height=\"400\"\n",
              "            src=\"https://datawrapper.dwcdn.net/fu3w1/1/\"\n",
              "            frameborder=\"0\"\n",
              "            allowfullscreen\n",
              "            \n",
              "        ></iframe>\n",
              "        "
            ]
          },
          "metadata": {}
        },
        {
          "output_type": "display_data",
          "data": {
            "text/plain": [
              "<IPython.lib.display.IFrame at 0x79279ee77670>"
            ],
            "text/html": [
              "\n",
              "        <iframe\n",
              "            width=\"600\"\n",
              "            height=\"400\"\n",
              "            src=\"https://datawrapper.dwcdn.net/KOPQg/1/\"\n",
              "            frameborder=\"0\"\n",
              "            allowfullscreen\n",
              "            \n",
              "        ></iframe>\n",
              "        "
            ]
          },
          "metadata": {}
        },
        {
          "output_type": "display_data",
          "data": {
            "text/plain": [
              "<IPython.lib.display.IFrame at 0x79279ee77c10>"
            ],
            "text/html": [
              "\n",
              "        <iframe\n",
              "            width=\"600\"\n",
              "            height=\"400\"\n",
              "            src=\"https://datawrapper.dwcdn.net/Qlj92/1/\"\n",
              "            frameborder=\"0\"\n",
              "            allowfullscreen\n",
              "            \n",
              "        ></iframe>\n",
              "        "
            ]
          },
          "metadata": {}
        },
        {
          "output_type": "display_data",
          "data": {
            "text/plain": [
              "<IPython.lib.display.IFrame at 0x79279ee774c0>"
            ],
            "text/html": [
              "\n",
              "        <iframe\n",
              "            width=\"600\"\n",
              "            height=\"400\"\n",
              "            src=\"https://datawrapper.dwcdn.net/PMtcy/1/\"\n",
              "            frameborder=\"0\"\n",
              "            allowfullscreen\n",
              "            \n",
              "        ></iframe>\n",
              "        "
            ]
          },
          "metadata": {}
        },
        {
          "output_type": "display_data",
          "data": {
            "text/plain": [
              "<IPython.lib.display.IFrame at 0x79279e975c00>"
            ],
            "text/html": [
              "\n",
              "        <iframe\n",
              "            width=\"600\"\n",
              "            height=\"400\"\n",
              "            src=\"https://datawrapper.dwcdn.net/25ovj/1/\"\n",
              "            frameborder=\"0\"\n",
              "            allowfullscreen\n",
              "            \n",
              "        ></iframe>\n",
              "        "
            ]
          },
          "metadata": {}
        },
        {
          "output_type": "display_data",
          "data": {
            "text/plain": [
              "<IPython.lib.display.IFrame at 0x79279e975c90>"
            ],
            "text/html": [
              "\n",
              "        <iframe\n",
              "            width=\"600\"\n",
              "            height=\"400\"\n",
              "            src=\"https://datawrapper.dwcdn.net/oNQOk/1/\"\n",
              "            frameborder=\"0\"\n",
              "            allowfullscreen\n",
              "            \n",
              "        ></iframe>\n",
              "        "
            ]
          },
          "metadata": {}
        },
        {
          "output_type": "display_data",
          "data": {
            "text/plain": [
              "<IPython.lib.display.IFrame at 0x79279e975bd0>"
            ],
            "text/html": [
              "\n",
              "        <iframe\n",
              "            width=\"600\"\n",
              "            height=\"400\"\n",
              "            src=\"https://datawrapper.dwcdn.net/NZACr/1/\"\n",
              "            frameborder=\"0\"\n",
              "            allowfullscreen\n",
              "            \n",
              "        ></iframe>\n",
              "        "
            ]
          },
          "metadata": {}
        }
      ]
    },
    {
      "cell_type": "code",
      "source": [
        "df.ArrestDateTime.dt.date.max()"
      ],
      "metadata": {
        "colab": {
          "base_uri": "https://localhost:8080/"
        },
        "id": "8Nm48yKfnD69",
        "outputId": "3d578697-215e-4577-debb-877dc9757cda"
      },
      "execution_count": 33,
      "outputs": [
        {
          "output_type": "execute_result",
          "data": {
            "text/plain": [
              "datetime.date(2023, 12, 30)"
            ]
          },
          "metadata": {},
          "execution_count": 33
        }
      ]
    },
    {
      "cell_type": "code",
      "source": [
        "end_date = df.ArrestDateTime.dt.date.max()"
      ],
      "metadata": {
        "id": "tXLFd0mjnRtf"
      },
      "execution_count": 34,
      "outputs": []
    },
    {
      "cell_type": "code",
      "source": [
        "from datetime import timedelta"
      ],
      "metadata": {
        "id": "_ONhbH-FnURj"
      },
      "execution_count": 35,
      "outputs": []
    },
    {
      "cell_type": "code",
      "source": [
        "seven_days_ago = end_date - timedelta(days=7)"
      ],
      "metadata": {
        "id": "eTswOcKvnXso"
      },
      "execution_count": 36,
      "outputs": []
    },
    {
      "cell_type": "code",
      "source": [
        "last_week_df = df[df.ArrestDateTime.dt.date > seven_days_ago]"
      ],
      "metadata": {
        "id": "yLXcNlk8nZsG"
      },
      "execution_count": 37,
      "outputs": []
    },
    {
      "cell_type": "code",
      "source": [
        "top_charges_df = (\n",
        "    last_week_df.ChargeDescription.value_counts()  # Count the number of arrests for each charge\n",
        "        .reset_index()  # Reset the index so that the charge becomes a column\n",
        "        .head(10)  # Save only the top 10\n",
        ")"
      ],
      "metadata": {
        "id": "bGd-w8hbne2G"
      },
      "execution_count": 38,
      "outputs": []
    },
    {
      "cell_type": "code",
      "source": [
        "chart_config = dw.create_chart(\n",
        "    title=f\"Top 10 arrest charges in Baltimore last week\",\n",
        "    chart_type=\"d3-bars\",  # Here's that chart type\n",
        "    data=top_charges_df,  # Note that we're using the top charges DataFrame\n",
        "    metadata={\n",
        "        \"visualize\": {\n",
        "            \"base-color\": \"#113421\",  # Let's do a different color, for fun.\n",
        "            \"thick\": True,  # Make the bars thick, another Datawrapper config option\n",
        "        },\n",
        "        \"describe\": {\n",
        "            \"source-name\": \"OpenBaltimore\",\n",
        "            \"source-url\": \"https://data.baltimorecity.gov/datasets/baltimore::bpd-arrests/about\",\n",
        "            \"byline\": \"Ben Welsh\"\n",
        "        }\n",
        "    }\n",
        ")"
      ],
      "metadata": {
        "id": "SRlnTE-zngxE"
      },
      "execution_count": 39,
      "outputs": []
    },
    {
      "cell_type": "code",
      "source": [
        "chart_id = chart_config[\"id\"]"
      ],
      "metadata": {
        "id": "6mjRIEJGnj7u"
      },
      "execution_count": 40,
      "outputs": []
    },
    {
      "cell_type": "code",
      "source": [
        "dw.publish_chart(chart_id)"
      ],
      "metadata": {
        "colab": {
          "base_uri": "https://localhost:8080/"
        },
        "id": "lyCcyrIQnmBc",
        "outputId": "e09a6a3c-4688-4afb-b1ab-07bc5bbf0742"
      },
      "execution_count": 41,
      "outputs": [
        {
          "output_type": "execute_result",
          "data": {
            "text/plain": [
              "{'data': {'publicId': 'kXk8D',\n",
              "  'language': 'en-US',\n",
              "  'theme': 'datawrapper',\n",
              "  'id': 'kXk8D',\n",
              "  'type': 'd3-bars',\n",
              "  'title': 'Top 10 arrest charges in Baltimore last week',\n",
              "  'lastEditStep': 5,\n",
              "  'publishedAt': '2024-03-18T22:11:22.300Z',\n",
              "  'publicUrl': 'https://datawrapper.dwcdn.net/kXk8D/1/',\n",
              "  'publicVersion': 1,\n",
              "  'deleted': False,\n",
              "  'deletedAt': None,\n",
              "  'forkable': False,\n",
              "  'isFork': False,\n",
              "  'metadata': {'data': {'changes': [],\n",
              "    'transpose': False,\n",
              "    'vertical-header': True,\n",
              "    'horizontal-header': True},\n",
              "   'describe': {'source-name': 'OpenBaltimore',\n",
              "    'source-url': 'https://data.baltimorecity.gov/datasets/baltimore::bpd-arrests/about',\n",
              "    'intro': '',\n",
              "    'byline': 'Ben Welsh',\n",
              "    'aria-description': '',\n",
              "    'number-format': '-',\n",
              "    'number-divisor': 0,\n",
              "    'number-append': '',\n",
              "    'number-prepend': ''},\n",
              "   'visualize': {'dark-mode-invert': True,\n",
              "    'highlighted-series': [],\n",
              "    'highlighted-values': [],\n",
              "    'sharing': {'enabled': False},\n",
              "    'thick': True,\n",
              "    'base-color': '#113421'},\n",
              "   'axes': {},\n",
              "   'publish': {'embed-width': 600,\n",
              "    'embed-height': 400,\n",
              "    'blocks': {'logo': {'enabled': False},\n",
              "     'embed': False,\n",
              "     'download-pdf': False,\n",
              "     'download-svg': False,\n",
              "     'get-the-data': True,\n",
              "     'download-image': False},\n",
              "    'export-pdf': {},\n",
              "    'embed-codes': {'embed-method-responsive': '<iframe title=\"Top 10 arrest charges in Baltimore last week\" aria-label=\"Bar Chart\" id=\"datawrapper-chart-kXk8D\" src=\"https://datawrapper.dwcdn.net/kXk8D/1/\" scrolling=\"no\" frameborder=\"0\" style=\"width: 0; min-width: 100% !important; border: none;\" height=\"400\" data-external=\"1\"></iframe><script type=\"text/javascript\">!function(){\"use strict\";window.addEventListener(\"message\",(function(a){if(void 0!==a.data[\"datawrapper-height\"]){var e=document.querySelectorAll(\"iframe\");for(var t in a.data[\"datawrapper-height\"])for(var r=0;r<e.length;r++)if(e[r].contentWindow===a.source){var i=a.data[\"datawrapper-height\"][t]+\"px\";e[r].style.height=i}}}))}();\\n</script>',\n",
              "     'embed-method-iframe': '<iframe title=\"Top 10 arrest charges in Baltimore last week\" aria-label=\"Bar Chart\" id=\"datawrapper-chart-kXk8D\" src=\"https://datawrapper.dwcdn.net/kXk8D/1/\" scrolling=\"no\" frameborder=\"0\" style=\"border: none;\" width=\"600\" height=\"400\" data-external=\"1\"></iframe>',\n",
              "     'embed-method-web-component': '<div style=\"min-height:400px\"><script type=\"text/javascript\" defer src=\"https://datawrapper.dwcdn.net/kXk8D/embed.js?v=1\" charset=\"utf-8\"></script><noscript><img src=\"https://datawrapper.dwcdn.net/kXk8D/full.png\" alt=\"\" /></noscript></div>'}},\n",
              "   'annotate': {'notes': ''},\n",
              "   'custom': {}},\n",
              "  'externalData': None,\n",
              "  'utf8': False,\n",
              "  'createdAt': '2024-03-18T22:11:04.000Z',\n",
              "  'lastModifiedAt': '2024-03-18T22:11:22.300Z',\n",
              "  'forkedFrom': None,\n",
              "  'organizationId': 'dWi6fZly',\n",
              "  'authorId': 295587,\n",
              "  'folderId': None},\n",
              " 'version': 1,\n",
              " 'url': 'https://datawrapper.dwcdn.net/kXk8D/1/'}"
            ]
          },
          "metadata": {},
          "execution_count": 41
        }
      ]
    },
    {
      "cell_type": "code",
      "source": [
        "dw.display_chart(chart_id)"
      ],
      "metadata": {
        "colab": {
          "base_uri": "https://localhost:8080/",
          "height": 421
        },
        "id": "gtuRtyE9nn9_",
        "outputId": "d58f42a9-9cfb-4188-af3f-1d64061f7a7d"
      },
      "execution_count": 42,
      "outputs": [
        {
          "output_type": "execute_result",
          "data": {
            "text/plain": [
              "<IPython.lib.display.IFrame at 0x79279f05ff10>"
            ],
            "text/html": [
              "\n",
              "        <iframe\n",
              "            width=\"600\"\n",
              "            height=\"400\"\n",
              "            src=\"https://datawrapper.dwcdn.net/kXk8D/1/\"\n",
              "            frameborder=\"0\"\n",
              "            allowfullscreen\n",
              "            \n",
              "        ></iframe>\n",
              "        "
            ]
          },
          "metadata": {},
          "execution_count": 42
        }
      ]
    },
    {
      "cell_type": "code",
      "source": [],
      "metadata": {
        "id": "f0hkvsFNnr1Q"
      },
      "execution_count": null,
      "outputs": []
    }
  ]
}